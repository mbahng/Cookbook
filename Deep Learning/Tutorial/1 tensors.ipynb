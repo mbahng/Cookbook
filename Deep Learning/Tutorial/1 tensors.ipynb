{
 "cells": [
  {
   "cell_type": "code",
   "execution_count": 20,
   "metadata": {},
   "outputs": [],
   "source": [
    "import torch\n",
    "import plotly as pt\n",
    "import matplotlib.pyplot as plt\n",
    "import numpy as np"
   ]
  },
  {
   "cell_type": "code",
   "execution_count": 26,
   "metadata": {},
   "outputs": [
    {
     "name": "stdout",
     "output_type": "stream",
     "text": [
      "tensor([ 1.2110, -0.1416, -1.0864,  0.6353,  1.4644], requires_grad=True)\n"
     ]
    }
   ],
   "source": [
    "x = torch.randn(5, requires_grad=True) \n",
    "print(x) "
   ]
  },
  {
   "cell_type": "code",
   "execution_count": 31,
   "metadata": {},
   "outputs": [
    {
     "name": "stdout",
     "output_type": "stream",
     "text": [
      "tensor([3.2110, 1.8584, 0.9136, 2.6353, 3.4644], grad_fn=<AddBackward0>)\n",
      "tensor([20.6209,  6.9072,  1.6692, 13.8899, 24.0042], grad_fn=<MulBackward0>)\n",
      "tensor(13.4183, grad_fn=<MeanBackward0>)\n",
      "tensor([2.5688, 1.4867, 0.7309, 2.1083, 2.7715])\n"
     ]
    }
   ],
   "source": [
    "y = x + 2 \n",
    "print(y)\n",
    "\n",
    "z = 2 * y**2 \n",
    "print(z)\n",
    "\n",
    "z = z.mean() \n",
    "print(z) \n",
    "\n",
    "print(x.grad)"
   ]
  }
 ],
 "metadata": {
  "kernelspec": {
   "display_name": "ML",
   "language": "python",
   "name": "python3"
  },
  "language_info": {
   "codemirror_mode": {
    "name": "ipython",
    "version": 3
   },
   "file_extension": ".py",
   "mimetype": "text/x-python",
   "name": "python",
   "nbconvert_exporter": "python",
   "pygments_lexer": "ipython3",
   "version": "3.10.9"
  },
  "orig_nbformat": 4
 },
 "nbformat": 4,
 "nbformat_minor": 2
}
